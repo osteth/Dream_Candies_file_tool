{
 "cells": [
  {
   "cell_type": "code",
   "execution_count": 8,
   "metadata": {
    "collapsed": false
   },
   "outputs": [
    {
     "name": "stdout",
     "output_type": "stream",
     "text": [
      "---------   Reading Input files from: -------------\n",
      "Customer_P = C:\\Users\\swahle\\Documents\\Github\\Dream_Candies_file_tool/extraction_files/customer.csv\n",
      "Invoice_P = C:\\Users\\swahle\\Documents\\Github\\Dream_Candies_file_tool/extraction_files/invoice.csv\n",
      "Item_P = C:\\Users\\swahle\\Documents\\Github\\Dream_Candies_file_tool/extraction_files/invoice_item.csv\n",
      "--------- Loading Input files into dataframes -------------\n"
     ]
    }
   ],
   "source": [
    "# coding: utf-8\n",
    "import pandas as pd\n",
    "from datetime import date\n",
    "from datetime import time\n",
    "from datetime import datetime\n",
    "import dateutil.parser as dparser\n",
    "import os\n",
    "\n",
    "\n",
    "#Setup\n",
    "import configparser\n",
    "config = configparser.ConfigParser()\n",
    "config.read('config.ini')\n",
    "\n",
    "#get path to current project repository\n",
    "ROOT_P = os.path.abspath(os.curdir)\n",
    "\n",
    "Customer_P = ROOT_P + config['PATHS']['Customer']\n",
    "Invoice_P = ROOT_P + config['PATHS']['Invoice']\n",
    "Item_P = ROOT_P +config['PATHS']['Item']\n",
    "\n",
    "print('---------   Reading Input files from: -------------')\n",
    "print('Customer_P = ' + str(Customer_P))\n",
    "print('Invoice_P = ' + str(Invoice_P))\n",
    "print('Item_P = ' + str(Item_P))\n",
    "\n",
    "print('--------- Loading Input files into dataframes -------------')\n",
    "Customer = pd.read_csv(Customer_P.replace('~$',''))\n",
    "Invoice = pd.read_csv(Invoice_P.replace('~$',''))\n",
    "Item_P = pd.read_csv(Item_P.replace('~$',''))"
   ]
  },
  {
   "cell_type": "code",
   "execution_count": 9,
   "metadata": {
    "collapsed": false
   },
   "outputs": [
    {
     "data": {
      "text/html": [
       "<div>\n",
       "<table border=\"1\" class=\"dataframe\">\n",
       "  <thead>\n",
       "    <tr style=\"text-align: right;\">\n",
       "      <th></th>\n",
       "      <th>CUSTOMER_CODE</th>\n",
       "      <th>FIRSTNAME</th>\n",
       "      <th>LASTNAME</th>\n",
       "    </tr>\n",
       "  </thead>\n",
       "  <tbody>\n",
       "    <tr>\n",
       "      <th>0</th>\n",
       "      <td>CUST0000010231</td>\n",
       "      <td>Maria</td>\n",
       "      <td>Alba</td>\n",
       "    </tr>\n",
       "    <tr>\n",
       "      <th>1</th>\n",
       "      <td>CUST0000010235</td>\n",
       "      <td>George</td>\n",
       "      <td>Lucas</td>\n",
       "    </tr>\n",
       "    <tr>\n",
       "      <th>2</th>\n",
       "      <td>CUST0000010237</td>\n",
       "      <td>Stratos</td>\n",
       "      <td>Mylonas</td>\n",
       "    </tr>\n",
       "  </tbody>\n",
       "</table>\n",
       "</div>"
      ],
      "text/plain": [
       "    CUSTOMER_CODE FIRSTNAME LASTNAME\n",
       "0  CUST0000010231     Maria     Alba\n",
       "1  CUST0000010235    George    Lucas\n",
       "2  CUST0000010237   Stratos  Mylonas"
      ]
     },
     "execution_count": 9,
     "metadata": {},
     "output_type": "execute_result"
    }
   ],
   "source": [
    "Customer"
   ]
  },
  {
   "cell_type": "code",
   "execution_count": 10,
   "metadata": {
    "collapsed": false
   },
   "outputs": [
    {
     "data": {
      "text/html": [
       "<div>\n",
       "<table border=\"1\" class=\"dataframe\">\n",
       "  <thead>\n",
       "    <tr style=\"text-align: right;\">\n",
       "      <th></th>\n",
       "      <th>CUSTOMER_CODE</th>\n",
       "      <th>INVOICE_CODE</th>\n",
       "      <th>AMOUNT</th>\n",
       "      <th>DATE</th>\n",
       "    </tr>\n",
       "  </thead>\n",
       "  <tbody>\n",
       "    <tr>\n",
       "      <th>0</th>\n",
       "      <td>CUST0000010231</td>\n",
       "      <td>IN0000001</td>\n",
       "      <td>105.50</td>\n",
       "      <td>1-Jan-16</td>\n",
       "    </tr>\n",
       "    <tr>\n",
       "      <th>1</th>\n",
       "      <td>CUST0000010235</td>\n",
       "      <td>IN0000002</td>\n",
       "      <td>186.53</td>\n",
       "      <td>1-Jan-16</td>\n",
       "    </tr>\n",
       "    <tr>\n",
       "      <th>2</th>\n",
       "      <td>CUST0000010231</td>\n",
       "      <td>IN0000003</td>\n",
       "      <td>114.14</td>\n",
       "      <td>1-Feb-16</td>\n",
       "    </tr>\n",
       "    <tr>\n",
       "      <th>3</th>\n",
       "      <td>CUST0000010237</td>\n",
       "      <td>IN0000005</td>\n",
       "      <td>256.12</td>\n",
       "      <td>5-Feb-17</td>\n",
       "    </tr>\n",
       "  </tbody>\n",
       "</table>\n",
       "</div>"
      ],
      "text/plain": [
       "    CUSTOMER_CODE INVOICE_CODE  AMOUNT      DATE\n",
       "0  CUST0000010231    IN0000001  105.50  1-Jan-16\n",
       "1  CUST0000010235    IN0000002  186.53  1-Jan-16\n",
       "2  CUST0000010231    IN0000003  114.14  1-Feb-16\n",
       "3  CUST0000010237    IN0000005  256.12  5-Feb-17"
      ]
     },
     "execution_count": 10,
     "metadata": {},
     "output_type": "execute_result"
    }
   ],
   "source": [
    "Invoice"
   ]
  },
  {
   "cell_type": "code",
   "execution_count": 11,
   "metadata": {
    "collapsed": false
   },
   "outputs": [
    {
     "data": {
      "text/html": [
       "<div>\n",
       "<table border=\"1\" class=\"dataframe\">\n",
       "  <thead>\n",
       "    <tr style=\"text-align: right;\">\n",
       "      <th></th>\n",
       "      <th>INVOICE_CODE</th>\n",
       "      <th>ITEM_CODE</th>\n",
       "      <th>AMOUNT</th>\n",
       "      <th>QUANTITY</th>\n",
       "    </tr>\n",
       "  </thead>\n",
       "  <tbody>\n",
       "    <tr>\n",
       "      <th>0</th>\n",
       "      <td>IN0000001</td>\n",
       "      <td>MEIJI</td>\n",
       "      <td>75.60</td>\n",
       "      <td>100</td>\n",
       "    </tr>\n",
       "    <tr>\n",
       "      <th>1</th>\n",
       "      <td>IN0000001</td>\n",
       "      <td>POCKY</td>\n",
       "      <td>10.40</td>\n",
       "      <td>250</td>\n",
       "    </tr>\n",
       "    <tr>\n",
       "      <th>2</th>\n",
       "      <td>IN0000001</td>\n",
       "      <td>PUCCHO</td>\n",
       "      <td>19.50</td>\n",
       "      <td>40</td>\n",
       "    </tr>\n",
       "    <tr>\n",
       "      <th>3</th>\n",
       "      <td>IN0000002</td>\n",
       "      <td>MEIJI</td>\n",
       "      <td>113.40</td>\n",
       "      <td>150</td>\n",
       "    </tr>\n",
       "    <tr>\n",
       "      <th>4</th>\n",
       "      <td>IN0000002</td>\n",
       "      <td>PUCCHO</td>\n",
       "      <td>73.13</td>\n",
       "      <td>150</td>\n",
       "    </tr>\n",
       "    <tr>\n",
       "      <th>5</th>\n",
       "      <td>IN0000003</td>\n",
       "      <td>POCKY</td>\n",
       "      <td>16.64</td>\n",
       "      <td>400</td>\n",
       "    </tr>\n",
       "    <tr>\n",
       "      <th>6</th>\n",
       "      <td>IN0000003</td>\n",
       "      <td>PUCCHO</td>\n",
       "      <td>97.50</td>\n",
       "      <td>200</td>\n",
       "    </tr>\n",
       "    <tr>\n",
       "      <th>7</th>\n",
       "      <td>IN0000005</td>\n",
       "      <td>POCKY</td>\n",
       "      <td>16.64</td>\n",
       "      <td>400</td>\n",
       "    </tr>\n",
       "    <tr>\n",
       "      <th>8</th>\n",
       "      <td>IN0000005</td>\n",
       "      <td>PUCCHO</td>\n",
       "      <td>97.50</td>\n",
       "      <td>200</td>\n",
       "    </tr>\n",
       "    <tr>\n",
       "      <th>9</th>\n",
       "      <td>IN0000005</td>\n",
       "      <td>POCKY</td>\n",
       "      <td>16.64</td>\n",
       "      <td>400</td>\n",
       "    </tr>\n",
       "    <tr>\n",
       "      <th>10</th>\n",
       "      <td>IN0000005</td>\n",
       "      <td>PUCCHO</td>\n",
       "      <td>97.50</td>\n",
       "      <td>200</td>\n",
       "    </tr>\n",
       "  </tbody>\n",
       "</table>\n",
       "</div>"
      ],
      "text/plain": [
       "   INVOICE_CODE ITEM_CODE  AMOUNT  QUANTITY\n",
       "0     IN0000001     MEIJI   75.60       100\n",
       "1     IN0000001     POCKY   10.40       250\n",
       "2     IN0000001    PUCCHO   19.50        40\n",
       "3     IN0000002     MEIJI  113.40       150\n",
       "4     IN0000002    PUCCHO   73.13       150\n",
       "5     IN0000003     POCKY   16.64       400\n",
       "6     IN0000003    PUCCHO   97.50       200\n",
       "7     IN0000005     POCKY   16.64       400\n",
       "8     IN0000005    PUCCHO   97.50       200\n",
       "9     IN0000005     POCKY   16.64       400\n",
       "10    IN0000005    PUCCHO   97.50       200"
      ]
     },
     "execution_count": 11,
     "metadata": {},
     "output_type": "execute_result"
    }
   ],
   "source": [
    "Item_P"
   ]
  },
  {
   "cell_type": "code",
   "execution_count": 5,
   "metadata": {
    "collapsed": false
   },
   "outputs": [
    {
     "data": {
      "text/plain": [
       "'C:\\\\Users\\\\swahle\\\\Documents\\\\Github\\\\Dream_Candies_file_tool'"
      ]
     },
     "execution_count": 5,
     "metadata": {},
     "output_type": "execute_result"
    }
   ],
   "source": []
  }
 ],
 "metadata": {
  "kernelspec": {
   "display_name": "Python 3",
   "language": "python",
   "name": "python3"
  },
  "language_info": {
   "codemirror_mode": {
    "name": "ipython",
    "version": 3
   },
   "file_extension": ".py",
   "mimetype": "text/x-python",
   "name": "python",
   "nbconvert_exporter": "python",
   "pygments_lexer": "ipython3",
   "version": "3.6.6"
  }
 },
 "nbformat": 4,
 "nbformat_minor": 2
}
