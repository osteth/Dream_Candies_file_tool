{
 "cells": [
  {
   "cell_type": "code",
   "execution_count": 1,
   "metadata": {
    "collapsed": false
   },
   "outputs": [
    {
     "name": "stdout",
     "output_type": "stream",
     "text": [
      "---------   Reading Input files from: -------------\n",
      "Customer_P = C:\\Users\\swahle\\Documents\\Github\\Dream_Candies_file_tool/extraction_files/customer.csv\n",
      "Invoice_P = C:\\Users\\swahle\\Documents\\Github\\Dream_Candies_file_tool/extraction_files/invoice.csv\n",
      "Item_P = C:\\Users\\swahle\\Documents\\Github\\Dream_Candies_file_tool/extraction_files/invoice_item.csv\n",
      "--------- Loading Input files into dataframes -------------\n"
     ]
    }
   ],
   "source": [
    "# coding: utf-8\n",
    "import pandas as pd\n",
    "from datetime import date\n",
    "from datetime import time\n",
    "from datetime import datetime\n",
    "import dateutil.parser as dparser\n",
    "import os\n",
    "import csv\n",
    "\n",
    "#Setup\n",
    "import configparser\n",
    "config = configparser.ConfigParser()\n",
    "config.read('config.ini')\n",
    "\n",
    "#get path to current project repository\n",
    "ROOT_P = os.path.abspath(os.curdir)\n",
    "\n",
    "Customer_P = ROOT_P + config['PATHS']['Customer']\n",
    "Invoice_P = ROOT_P + config['PATHS']['Invoice']\n",
    "Item_P = ROOT_P +config['PATHS']['Item']\n",
    "\n",
    "print('---------   Reading Input files from: -------------')\n",
    "print('Customer_P = ' + str(Customer_P))\n",
    "print('Invoice_P = ' + str(Invoice_P))\n",
    "print('Item_P = ' + str(Item_P))\n",
    "\n",
    "print('--------- Loading Input files into dataframes -------------')\n",
    "Customer = pd.read_csv(Customer_P.replace('~$','')).replace('\"', '')\n",
    "Invoice = pd.read_csv(Invoice_P.replace('~$','')).replace('\"', '')\n",
    "Item = pd.read_csv(Item_P.replace('~$','')).replace('\"', '')\n"
   ]
  },
  {
   "cell_type": "code",
   "execution_count": 2,
   "metadata": {
    "collapsed": false
   },
   "outputs": [
    {
     "data": {
      "text/html": [
       "<div>\n",
       "<style scoped>\n",
       "    .dataframe tbody tr th:only-of-type {\n",
       "        vertical-align: middle;\n",
       "    }\n",
       "\n",
       "    .dataframe tbody tr th {\n",
       "        vertical-align: top;\n",
       "    }\n",
       "\n",
       "    .dataframe thead th {\n",
       "        text-align: right;\n",
       "    }\n",
       "</style>\n",
       "<table border=\"1\" class=\"dataframe\">\n",
       "  <thead>\n",
       "    <tr style=\"text-align: right;\">\n",
       "      <th></th>\n",
       "      <th>CUSTOMER_CODE</th>\n",
       "      <th>FIRSTNAME</th>\n",
       "      <th>LASTNAME</th>\n",
       "    </tr>\n",
       "  </thead>\n",
       "  <tbody>\n",
       "    <tr>\n",
       "      <th>0</th>\n",
       "      <td>CUST0000010231</td>\n",
       "      <td>Maria</td>\n",
       "      <td>Alba</td>\n",
       "    </tr>\n",
       "    <tr>\n",
       "      <th>1</th>\n",
       "      <td>CUST0000010235</td>\n",
       "      <td>George</td>\n",
       "      <td>Lucas</td>\n",
       "    </tr>\n",
       "  </tbody>\n",
       "</table>\n",
       "</div>"
      ],
      "text/plain": [
       "    CUSTOMER_CODE FIRSTNAME LASTNAME\n",
       "0  CUST0000010231     Maria     Alba\n",
       "1  CUST0000010235    George    Lucas"
      ]
     },
     "execution_count": 2,
     "metadata": {},
     "output_type": "execute_result"
    }
   ],
   "source": [
    "Customer"
   ]
  },
  {
   "cell_type": "code",
   "execution_count": 3,
   "metadata": {
    "collapsed": false
   },
   "outputs": [
    {
     "data": {
      "text/html": [
       "<div>\n",
       "<style scoped>\n",
       "    .dataframe tbody tr th:only-of-type {\n",
       "        vertical-align: middle;\n",
       "    }\n",
       "\n",
       "    .dataframe tbody tr th {\n",
       "        vertical-align: top;\n",
       "    }\n",
       "\n",
       "    .dataframe thead th {\n",
       "        text-align: right;\n",
       "    }\n",
       "</style>\n",
       "<table border=\"1\" class=\"dataframe\">\n",
       "  <thead>\n",
       "    <tr style=\"text-align: right;\">\n",
       "      <th></th>\n",
       "      <th>CUSTOMER_CODE</th>\n",
       "      <th>INVOICE_CODE</th>\n",
       "      <th>AMOUNT</th>\n",
       "      <th>DATE</th>\n",
       "    </tr>\n",
       "  </thead>\n",
       "  <tbody>\n",
       "    <tr>\n",
       "      <th>0</th>\n",
       "      <td>CUST0000010231</td>\n",
       "      <td>IN0000001</td>\n",
       "      <td>105.50</td>\n",
       "      <td>01-Jan-2016</td>\n",
       "    </tr>\n",
       "    <tr>\n",
       "      <th>1</th>\n",
       "      <td>CUST0000010235</td>\n",
       "      <td>IN0000002</td>\n",
       "      <td>186.53</td>\n",
       "      <td>01-Jan-2016</td>\n",
       "    </tr>\n",
       "    <tr>\n",
       "      <th>2</th>\n",
       "      <td>CUST0000010231</td>\n",
       "      <td>IN0000003</td>\n",
       "      <td>114.14</td>\n",
       "      <td>01-Feb-2016</td>\n",
       "    </tr>\n",
       "  </tbody>\n",
       "</table>\n",
       "</div>"
      ],
      "text/plain": [
       "    CUSTOMER_CODE INVOICE_CODE  AMOUNT         DATE\n",
       "0  CUST0000010231    IN0000001  105.50  01-Jan-2016\n",
       "1  CUST0000010235    IN0000002  186.53  01-Jan-2016\n",
       "2  CUST0000010231    IN0000003  114.14  01-Feb-2016"
      ]
     },
     "execution_count": 3,
     "metadata": {},
     "output_type": "execute_result"
    }
   ],
   "source": [
    "Invoice"
   ]
  },
  {
   "cell_type": "code",
   "execution_count": 4,
   "metadata": {
    "collapsed": false
   },
   "outputs": [
    {
     "data": {
      "text/html": [
       "<div>\n",
       "<style scoped>\n",
       "    .dataframe tbody tr th:only-of-type {\n",
       "        vertical-align: middle;\n",
       "    }\n",
       "\n",
       "    .dataframe tbody tr th {\n",
       "        vertical-align: top;\n",
       "    }\n",
       "\n",
       "    .dataframe thead th {\n",
       "        text-align: right;\n",
       "    }\n",
       "</style>\n",
       "<table border=\"1\" class=\"dataframe\">\n",
       "  <thead>\n",
       "    <tr style=\"text-align: right;\">\n",
       "      <th></th>\n",
       "      <th>INVOICE_CODE</th>\n",
       "      <th>ITEM_CODE</th>\n",
       "      <th>AMOUNT</th>\n",
       "      <th>QUANTITY</th>\n",
       "    </tr>\n",
       "  </thead>\n",
       "  <tbody>\n",
       "    <tr>\n",
       "      <th>0</th>\n",
       "      <td>IN0000001</td>\n",
       "      <td>MEIJI</td>\n",
       "      <td>75.60</td>\n",
       "      <td>100</td>\n",
       "    </tr>\n",
       "    <tr>\n",
       "      <th>1</th>\n",
       "      <td>IN0000001</td>\n",
       "      <td>POCKY</td>\n",
       "      <td>10.40</td>\n",
       "      <td>250</td>\n",
       "    </tr>\n",
       "    <tr>\n",
       "      <th>2</th>\n",
       "      <td>IN0000001</td>\n",
       "      <td>PUCCHO</td>\n",
       "      <td>19.50</td>\n",
       "      <td>40</td>\n",
       "    </tr>\n",
       "    <tr>\n",
       "      <th>3</th>\n",
       "      <td>IN0000002</td>\n",
       "      <td>MEIJI</td>\n",
       "      <td>113.40</td>\n",
       "      <td>150</td>\n",
       "    </tr>\n",
       "    <tr>\n",
       "      <th>4</th>\n",
       "      <td>IN0000002</td>\n",
       "      <td>PUCCHO</td>\n",
       "      <td>73.13</td>\n",
       "      <td>150</td>\n",
       "    </tr>\n",
       "    <tr>\n",
       "      <th>5</th>\n",
       "      <td>IN0000003</td>\n",
       "      <td>POCKY</td>\n",
       "      <td>16.64</td>\n",
       "      <td>400</td>\n",
       "    </tr>\n",
       "    <tr>\n",
       "      <th>6</th>\n",
       "      <td>IN0000003</td>\n",
       "      <td>PUCCHO</td>\n",
       "      <td>97.50</td>\n",
       "      <td>200</td>\n",
       "    </tr>\n",
       "  </tbody>\n",
       "</table>\n",
       "</div>"
      ],
      "text/plain": [
       "  INVOICE_CODE ITEM_CODE  AMOUNT  QUANTITY\n",
       "0    IN0000001     MEIJI   75.60       100\n",
       "1    IN0000001     POCKY   10.40       250\n",
       "2    IN0000001    PUCCHO   19.50        40\n",
       "3    IN0000002     MEIJI  113.40       150\n",
       "4    IN0000002    PUCCHO   73.13       150\n",
       "5    IN0000003     POCKY   16.64       400\n",
       "6    IN0000003    PUCCHO   97.50       200"
      ]
     },
     "execution_count": 4,
     "metadata": {},
     "output_type": "execute_result"
    }
   ],
   "source": [
    "Item"
   ]
  },
  {
   "cell_type": "code",
   "execution_count": 5,
   "metadata": {
    "collapsed": false
   },
   "outputs": [
    {
     "data": {
      "text/html": [
       "<div>\n",
       "<style scoped>\n",
       "    .dataframe tbody tr th:only-of-type {\n",
       "        vertical-align: middle;\n",
       "    }\n",
       "\n",
       "    .dataframe tbody tr th {\n",
       "        vertical-align: top;\n",
       "    }\n",
       "\n",
       "    .dataframe thead th {\n",
       "        text-align: right;\n",
       "    }\n",
       "</style>\n",
       "<table border=\"1\" class=\"dataframe\">\n",
       "  <thead>\n",
       "    <tr style=\"text-align: right;\">\n",
       "      <th></th>\n",
       "      <th>CUSTOMER_CODE</th>\n",
       "      <th>FIRSTNAME</th>\n",
       "      <th>LASTNAME</th>\n",
       "      <th>INVOICE_CODE</th>\n",
       "      <th>AMOUNT</th>\n",
       "      <th>DATE</th>\n",
       "    </tr>\n",
       "  </thead>\n",
       "  <tbody>\n",
       "    <tr>\n",
       "      <th>0</th>\n",
       "      <td>CUST0000010231</td>\n",
       "      <td>Maria</td>\n",
       "      <td>Alba</td>\n",
       "      <td>IN0000001</td>\n",
       "      <td>105.50</td>\n",
       "      <td>01-Jan-2016</td>\n",
       "    </tr>\n",
       "    <tr>\n",
       "      <th>1</th>\n",
       "      <td>CUST0000010231</td>\n",
       "      <td>Maria</td>\n",
       "      <td>Alba</td>\n",
       "      <td>IN0000003</td>\n",
       "      <td>114.14</td>\n",
       "      <td>01-Feb-2016</td>\n",
       "    </tr>\n",
       "    <tr>\n",
       "      <th>2</th>\n",
       "      <td>CUST0000010235</td>\n",
       "      <td>George</td>\n",
       "      <td>Lucas</td>\n",
       "      <td>IN0000002</td>\n",
       "      <td>186.53</td>\n",
       "      <td>01-Jan-2016</td>\n",
       "    </tr>\n",
       "  </tbody>\n",
       "</table>\n",
       "</div>"
      ],
      "text/plain": [
       "    CUSTOMER_CODE FIRSTNAME LASTNAME INVOICE_CODE  AMOUNT         DATE\n",
       "0  CUST0000010231     Maria     Alba    IN0000001  105.50  01-Jan-2016\n",
       "1  CUST0000010231     Maria     Alba    IN0000003  114.14  01-Feb-2016\n",
       "2  CUST0000010235    George    Lucas    IN0000002  186.53  01-Jan-2016"
      ]
     },
     "execution_count": 5,
     "metadata": {},
     "output_type": "execute_result"
    }
   ],
   "source": [
    "df = pd.merge(Customer, Invoice)\n",
    "df"
   ]
  },
  {
   "cell_type": "code",
   "execution_count": 6,
   "metadata": {
    "collapsed": false
   },
   "outputs": [],
   "source": [
    "merged = pd.merge(df, Item, on=['INVOICE_CODE'])\n"
   ]
  },
  {
   "cell_type": "code",
   "execution_count": 7,
   "metadata": {
    "collapsed": false
   },
   "outputs": [],
   "source": [
    "merged.rename(columns = {'AMOUNT_y':'AMOUNT'}, inplace = True)\n",
    "merged = merged.drop(['AMOUNT_x'], axis=1)"
   ]
  },
  {
   "cell_type": "code",
   "execution_count": 9,
   "metadata": {
    "collapsed": false
   },
   "outputs": [
    {
     "data": {
      "text/plain": [
       "0    CUST0000010231\n",
       "1    CUST0000010231\n",
       "2    CUST0000010231\n",
       "3    CUST0000010231\n",
       "4    CUST0000010231\n",
       "5    CUST0000010235\n",
       "6    CUST0000010235\n",
       "Name: CUSTOMER_CODE, dtype: object"
      ]
     },
     "execution_count": 9,
     "metadata": {},
     "output_type": "execute_result"
    }
   ],
   "source": [
    "merged['CUSTOMER_CODE']"
   ]
  },
  {
   "cell_type": "code",
   "execution_count": 27,
   "metadata": {
    "collapsed": false
   },
   "outputs": [],
   "source": [
    "Unique_customers = merged.drop_duplicates(subset=['CUSTOMER_CODE'])\n",
    "Unique_customers = pd.DataFrame(Unique_customers, columns = ['CUSTOMER_CODE'])\n",
    "import csv\n",
    "\n",
    "Unique_customers.to_csv('test.txt', index=True, quotechar='\"',\n",
    "                      header=None, quoting=csv.QUOTE_NONNUMERIC)"
   ]
  }
 ],
 "metadata": {
  "kernelspec": {
   "display_name": "Python 3",
   "language": "python",
   "name": "python3"
  },
  "language_info": {
   "codemirror_mode": {
    "name": "ipython",
    "version": 3
   },
   "file_extension": ".py",
   "mimetype": "text/x-python",
   "name": "python",
   "nbconvert_exporter": "python",
   "pygments_lexer": "ipython3",
   "version": "3.6.6"
  }
 },
 "nbformat": 4,
 "nbformat_minor": 2
}
