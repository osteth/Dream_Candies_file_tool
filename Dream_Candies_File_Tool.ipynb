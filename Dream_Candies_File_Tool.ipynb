{
 "cells": [
  {
   "cell_type": "code",
   "execution_count": 1,
   "metadata": {
    "collapsed": true
   },
   "outputs": [],
   "source": [
    "# coding: utf-8\n",
    "#Setup\n",
    "import pandas as pd\n",
    "import os, csv, pathlib\n",
    "import datetime\n",
    "import configparser\n",
    "\n",
    "config = configparser.ConfigParser()\n",
    "config.read('config.ini')\n",
    "\n",
    "#get path to current project repository.\n",
    "ROOT_P = os.path.abspath(os.curdir)\n",
    "\n",
    "#Get all of the file path from the config file.\n",
    "Customer_P = ROOT_P + config['PATHS']['Customer']\n",
    "Invoice_P = ROOT_P + config['PATHS']['Invoice']\n",
    "Item_P = ROOT_P +config['PATHS']['Item']\n",
    "Customer_sample_P = ROOT_P +config['PATHS']['Customer_sample']\n",
    "Output_P = config['PATHS']['Output']\n",
    "\n",
    "#Get all of the file names from the config file.\n",
    "Customer_N = config['FILENAMES']['Customer']\n",
    "Invoice_N = config['FILENAMES']['Invoice']\n",
    "Item_N = config['FILENAMES']['Item']"
   ]
  },
  {
   "cell_type": "code",
   "execution_count": 2,
   "metadata": {
    "collapsed": false
   },
   "outputs": [
    {
     "name": "stdout",
     "output_type": "stream",
     "text": [
      "---------   Reading Input files from: -------------\n",
      "Customer_P = C:\\Users\\swahle\\Documents\\Github\\Dream_Candies_file_tool/extraction_files/customer.csv\n",
      "Invoice_P = C:\\Users\\swahle\\Documents\\Github\\Dream_Candies_file_tool/extraction_files/invoice.csv\n",
      "Item_P = C:\\Users\\swahle\\Documents\\Github\\Dream_Candies_file_tool/extraction_files/invoice_item.csv\n",
      "Customer_sample_P = C:\\Users\\swahle\\Documents\\Github\\Dream_Candies_file_tool/input_csv/CUSTOMER_SAMPLE.CSV\n"
     ]
    }
   ],
   "source": [
    "print('---------   Reading Input files from: -------------')\n",
    "print('Customer_P = ' + str(Customer_P))\n",
    "print('Invoice_P = ' + str(Invoice_P))\n",
    "print('Item_P = ' + str(Item_P))\n",
    "print('Customer_sample_P = ' + str(Customer_sample_P))"
   ]
  },
  {
   "cell_type": "code",
   "execution_count": 3,
   "metadata": {
    "collapsed": false
   },
   "outputs": [
    {
     "name": "stdout",
     "output_type": "stream",
     "text": [
      "--------- Loading Input files into dataframes -------------\n"
     ]
    }
   ],
   "source": [
    "print('--------- Loading Input files into dataframes -------------')\n",
    "Customer = pd.read_csv(Customer_P.replace('~$','')).replace('\"', '')\n",
    "Invoice = pd.read_csv(Invoice_P.replace('~$','')).replace('\"', '')\n",
    "Item = pd.read_csv(Item_P.replace('~$','')).replace('\"', '')\n",
    "Customer_sample = pd.read_csv(Customer_sample_P.replace('~$','')).replace('\"', '')"
   ]
  },
  {
   "cell_type": "code",
   "execution_count": 4,
   "metadata": {
    "collapsed": false
   },
   "outputs": [
    {
     "data": {
      "text/html": [
       "<div>\n",
       "<style scoped>\n",
       "    .dataframe tbody tr th:only-of-type {\n",
       "        vertical-align: middle;\n",
       "    }\n",
       "\n",
       "    .dataframe tbody tr th {\n",
       "        vertical-align: top;\n",
       "    }\n",
       "\n",
       "    .dataframe thead th {\n",
       "        text-align: right;\n",
       "    }\n",
       "</style>\n",
       "<table border=\"1\" class=\"dataframe\">\n",
       "  <thead>\n",
       "    <tr style=\"text-align: right;\">\n",
       "      <th></th>\n",
       "      <th>CUSTOMER_CODE</th>\n",
       "      <th>FIRSTNAME</th>\n",
       "      <th>LASTNAME</th>\n",
       "    </tr>\n",
       "  </thead>\n",
       "  <tbody>\n",
       "    <tr>\n",
       "      <th>0</th>\n",
       "      <td>CUST0000010231</td>\n",
       "      <td>Maria</td>\n",
       "      <td>Alba</td>\n",
       "    </tr>\n",
       "    <tr>\n",
       "      <th>1</th>\n",
       "      <td>CUST0000010235</td>\n",
       "      <td>George</td>\n",
       "      <td>Lucas</td>\n",
       "    </tr>\n",
       "  </tbody>\n",
       "</table>\n",
       "</div>"
      ],
      "text/plain": [
       "    CUSTOMER_CODE FIRSTNAME LASTNAME\n",
       "0  CUST0000010231     Maria     Alba\n",
       "1  CUST0000010235    George    Lucas"
      ]
     },
     "execution_count": 4,
     "metadata": {},
     "output_type": "execute_result"
    }
   ],
   "source": [
    "Customer"
   ]
  },
  {
   "cell_type": "code",
   "execution_count": 5,
   "metadata": {
    "collapsed": false
   },
   "outputs": [
    {
     "data": {
      "text/html": [
       "<div>\n",
       "<style scoped>\n",
       "    .dataframe tbody tr th:only-of-type {\n",
       "        vertical-align: middle;\n",
       "    }\n",
       "\n",
       "    .dataframe tbody tr th {\n",
       "        vertical-align: top;\n",
       "    }\n",
       "\n",
       "    .dataframe thead th {\n",
       "        text-align: right;\n",
       "    }\n",
       "</style>\n",
       "<table border=\"1\" class=\"dataframe\">\n",
       "  <thead>\n",
       "    <tr style=\"text-align: right;\">\n",
       "      <th></th>\n",
       "      <th>CUSTOMER_CODE</th>\n",
       "      <th>INVOICE_CODE</th>\n",
       "      <th>AMOUNT</th>\n",
       "      <th>DATE</th>\n",
       "    </tr>\n",
       "  </thead>\n",
       "  <tbody>\n",
       "    <tr>\n",
       "      <th>0</th>\n",
       "      <td>CUST0000010231</td>\n",
       "      <td>IN0000001</td>\n",
       "      <td>105.50</td>\n",
       "      <td>01-Jan-2016</td>\n",
       "    </tr>\n",
       "    <tr>\n",
       "      <th>1</th>\n",
       "      <td>CUST0000010235</td>\n",
       "      <td>IN0000002</td>\n",
       "      <td>186.53</td>\n",
       "      <td>01-Jan-2016</td>\n",
       "    </tr>\n",
       "    <tr>\n",
       "      <th>2</th>\n",
       "      <td>CUST0000010231</td>\n",
       "      <td>IN0000003</td>\n",
       "      <td>114.14</td>\n",
       "      <td>01-Feb-2016</td>\n",
       "    </tr>\n",
       "  </tbody>\n",
       "</table>\n",
       "</div>"
      ],
      "text/plain": [
       "    CUSTOMER_CODE INVOICE_CODE  AMOUNT         DATE\n",
       "0  CUST0000010231    IN0000001  105.50  01-Jan-2016\n",
       "1  CUST0000010235    IN0000002  186.53  01-Jan-2016\n",
       "2  CUST0000010231    IN0000003  114.14  01-Feb-2016"
      ]
     },
     "execution_count": 5,
     "metadata": {},
     "output_type": "execute_result"
    }
   ],
   "source": [
    "Invoice"
   ]
  },
  {
   "cell_type": "code",
   "execution_count": 6,
   "metadata": {
    "collapsed": false
   },
   "outputs": [
    {
     "data": {
      "text/html": [
       "<div>\n",
       "<style scoped>\n",
       "    .dataframe tbody tr th:only-of-type {\n",
       "        vertical-align: middle;\n",
       "    }\n",
       "\n",
       "    .dataframe tbody tr th {\n",
       "        vertical-align: top;\n",
       "    }\n",
       "\n",
       "    .dataframe thead th {\n",
       "        text-align: right;\n",
       "    }\n",
       "</style>\n",
       "<table border=\"1\" class=\"dataframe\">\n",
       "  <thead>\n",
       "    <tr style=\"text-align: right;\">\n",
       "      <th></th>\n",
       "      <th>INVOICE_CODE</th>\n",
       "      <th>ITEM_CODE</th>\n",
       "      <th>AMOUNT</th>\n",
       "      <th>QUANTITY</th>\n",
       "    </tr>\n",
       "  </thead>\n",
       "  <tbody>\n",
       "    <tr>\n",
       "      <th>0</th>\n",
       "      <td>IN0000001</td>\n",
       "      <td>MEIJI</td>\n",
       "      <td>75.60</td>\n",
       "      <td>100</td>\n",
       "    </tr>\n",
       "    <tr>\n",
       "      <th>1</th>\n",
       "      <td>IN0000001</td>\n",
       "      <td>POCKY</td>\n",
       "      <td>10.40</td>\n",
       "      <td>250</td>\n",
       "    </tr>\n",
       "    <tr>\n",
       "      <th>2</th>\n",
       "      <td>IN0000001</td>\n",
       "      <td>PUCCHO</td>\n",
       "      <td>19.50</td>\n",
       "      <td>40</td>\n",
       "    </tr>\n",
       "    <tr>\n",
       "      <th>3</th>\n",
       "      <td>IN0000002</td>\n",
       "      <td>MEIJI</td>\n",
       "      <td>113.40</td>\n",
       "      <td>150</td>\n",
       "    </tr>\n",
       "    <tr>\n",
       "      <th>4</th>\n",
       "      <td>IN0000002</td>\n",
       "      <td>PUCCHO</td>\n",
       "      <td>73.13</td>\n",
       "      <td>150</td>\n",
       "    </tr>\n",
       "    <tr>\n",
       "      <th>5</th>\n",
       "      <td>IN0000003</td>\n",
       "      <td>POCKY</td>\n",
       "      <td>16.64</td>\n",
       "      <td>400</td>\n",
       "    </tr>\n",
       "    <tr>\n",
       "      <th>6</th>\n",
       "      <td>IN0000003</td>\n",
       "      <td>PUCCHO</td>\n",
       "      <td>97.50</td>\n",
       "      <td>200</td>\n",
       "    </tr>\n",
       "  </tbody>\n",
       "</table>\n",
       "</div>"
      ],
      "text/plain": [
       "  INVOICE_CODE ITEM_CODE  AMOUNT  QUANTITY\n",
       "0    IN0000001     MEIJI   75.60       100\n",
       "1    IN0000001     POCKY   10.40       250\n",
       "2    IN0000001    PUCCHO   19.50        40\n",
       "3    IN0000002     MEIJI  113.40       150\n",
       "4    IN0000002    PUCCHO   73.13       150\n",
       "5    IN0000003     POCKY   16.64       400\n",
       "6    IN0000003    PUCCHO   97.50       200"
      ]
     },
     "execution_count": 6,
     "metadata": {},
     "output_type": "execute_result"
    }
   ],
   "source": [
    "Item"
   ]
  },
  {
   "cell_type": "code",
   "execution_count": 7,
   "metadata": {
    "collapsed": false
   },
   "outputs": [
    {
     "data": {
      "text/html": [
       "<div>\n",
       "<style scoped>\n",
       "    .dataframe tbody tr th:only-of-type {\n",
       "        vertical-align: middle;\n",
       "    }\n",
       "\n",
       "    .dataframe tbody tr th {\n",
       "        vertical-align: top;\n",
       "    }\n",
       "\n",
       "    .dataframe thead th {\n",
       "        text-align: right;\n",
       "    }\n",
       "</style>\n",
       "<table border=\"1\" class=\"dataframe\">\n",
       "  <thead>\n",
       "    <tr style=\"text-align: right;\">\n",
       "      <th></th>\n",
       "      <th>CUSTOMER_CODE</th>\n",
       "    </tr>\n",
       "  </thead>\n",
       "  <tbody>\n",
       "    <tr>\n",
       "      <th>0</th>\n",
       "      <td>CUST0000010231</td>\n",
       "    </tr>\n",
       "    <tr>\n",
       "      <th>1</th>\n",
       "      <td>CUST0000010235</td>\n",
       "    </tr>\n",
       "  </tbody>\n",
       "</table>\n",
       "</div>"
      ],
      "text/plain": [
       "    CUSTOMER_CODE\n",
       "0  CUST0000010231\n",
       "1  CUST0000010235"
      ]
     },
     "execution_count": 7,
     "metadata": {},
     "output_type": "execute_result"
    }
   ],
   "source": [
    "Customer_sample"
   ]
  },
  {
   "cell_type": "code",
   "execution_count": 8,
   "metadata": {
    "collapsed": false
   },
   "outputs": [
    {
     "data": {
      "text/plain": [
       "array(['CUST0000010231', 'CUST0000010235'], dtype=object)"
      ]
     },
     "execution_count": 8,
     "metadata": {},
     "output_type": "execute_result"
    }
   ],
   "source": [
    "Customer_sample['CUSTOMER_CODE'].values"
   ]
  },
  {
   "cell_type": "code",
   "execution_count": 9,
   "metadata": {
    "collapsed": false
   },
   "outputs": [],
   "source": [
    "sub_customer = Customer.loc[Customer['CUSTOMER_CODE'].isin(Customer_sample['CUSTOMER_CODE'].values)]"
   ]
  },
  {
   "cell_type": "code",
   "execution_count": 10,
   "metadata": {
    "collapsed": false,
    "scrolled": true
   },
   "outputs": [],
   "source": [
    "sub_customer\n",
    "df = pd.merge(sub_customer, Invoice)\n",
    "sub_Invoice = df.drop(['FIRSTNAME', 'LASTNAME'], axis=1)\n",
    "df = sub_Invoice.drop(['CUSTOMER_CODE', 'AMOUNT', 'DATE'], axis=1)\n",
    "sub_Item = pd.merge(df, Item)"
   ]
  },
  {
   "cell_type": "code",
   "execution_count": 11,
   "metadata": {
    "collapsed": false
   },
   "outputs": [
    {
     "name": "stdout",
     "output_type": "stream",
     "text": [
      "--------- Writing to disk.... -------------\n",
      "------------------------Action Completed!------------------------\n"
     ]
    }
   ],
   "source": [
    "print('--------- Writing to disk.... -------------')\n",
    "#Ensuring output filepath exists to prevent errors\n",
    "def Validatd_path(file_path):\n",
    "    path = pathlib.Path(file_path)\n",
    "    path.parent.mkdir(parents=True, exist_ok=True)\n",
    "    return(path)\n",
    "#Saving off the customer sample data. \n",
    "sub_customer.to_csv(Validatd_path(ROOT_P + Output_P + Customer_N), index=False, quotechar='\"',\n",
    "                      quoting=csv.QUOTE_ALL)\n",
    "\n",
    "sub_Invoice.to_csv(Validatd_path(ROOT_P + Output_P + Invoice_N), index=False, quotechar='\"',\n",
    "                      quoting=csv.QUOTE_ALL)\n",
    "\n",
    "sub_Item.to_csv(Validatd_path(ROOT_P + Output_P + Item_N), index=False, quotechar='\"',\n",
    "                      quoting=csv.QUOTE_ALL)\n",
    "\n",
    "print(\"------------------------Action Completed!------------------------\")"
   ]
  }
 ],
 "metadata": {
  "kernelspec": {
   "display_name": "Python 3",
   "language": "python",
   "name": "python3"
  },
  "language_info": {
   "codemirror_mode": {
    "name": "ipython",
    "version": 3
   },
   "file_extension": ".py",
   "mimetype": "text/x-python",
   "name": "python",
   "nbconvert_exporter": "python",
   "pygments_lexer": "ipython3",
   "version": "3.6.6"
  }
 },
 "nbformat": 4,
 "nbformat_minor": 2
}
